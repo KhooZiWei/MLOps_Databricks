{
 "cells": [
  {
   "cell_type": "markdown",
   "metadata": {
    "application/vnd.databricks.v1+cell": {
     "cellMetadata": {
      "byteLimit": 2048000,
      "rowLimit": 10000
     },
     "inputWidgets": {},
     "nuid": "06016f2c-a281-4dab-bb0a-51aeaf069f8a",
     "showTitle": false,
     "title": ""
    }
   },
   "source": [
    "# Databricks ML End-To-End: From Data Ingest, Over Model Creation, To Serving\n",
    "\n",
    "## Objective: Forecasting the average sales for each month in the upcoming year using AutoML model\n",
    "\n",
    "Dataset: Retail dataset of a global superstore for 4 years, https://www.kaggle.com/datasets/jr2ngb/superstore-data\n",
    "\n"
   ]
  },
  {
   "cell_type": "markdown",
   "metadata": {
    "application/vnd.databricks.v1+cell": {
     "cellMetadata": {
      "byteLimit": 2048000,
      "rowLimit": 10000
     },
     "inputWidgets": {},
     "nuid": "4df8c49d-1a33-40b4-91a6-5ec114c04871",
     "showTitle": false,
     "title": ""
    }
   },
   "source": [
    "## Load data from Catalog\n"
   ]
  },
  {
   "cell_type": "code",
   "execution_count": 0,
   "metadata": {
    "application/vnd.databricks.v1+cell": {
     "cellMetadata": {
      "byteLimit": 2048000,
      "rowLimit": 10000
     },
     "inputWidgets": {},
     "nuid": "410905cb-5415-4809-8316-e3df69a07a4b",
     "showTitle": false,
     "title": ""
    }
   },
   "outputs": [
    {
     "output_type": "display_data",
     "data": {
      "text/html": [
       "<style scoped>\n",
       "  .ansiout {\n",
       "    display: block;\n",
       "    unicode-bidi: embed;\n",
       "    white-space: pre-wrap;\n",
       "    word-wrap: break-word;\n",
       "    word-break: break-all;\n",
       "    font-family: \"Menlo\", \"Monaco\", \"Consolas\", \"Ubuntu Mono\", \"Source Code Pro\", monospace;\n",
       "    font-size: 13px;\n",
       "    color: #555;\n",
       "    margin-left: 4px;\n",
       "    line-height: 19px;\n",
       "  }\n",
       "</style>\n",
       "<div class=\"ansiout\">superstore_df: org.apache.spark.sql.DataFrame = [Row ID: bigint, Order ID: string ... 22 more fields]\n",
       "</div>"
      ]
     },
     "metadata": {
      "application/vnd.databricks.v1+output": {
       "addedWidgets": {},
       "arguments": {},
       "data": "<div class=\"ansiout\">superstore_df: org.apache.spark.sql.DataFrame = [Row ID: bigint, Order ID: string ... 22 more fields]\n</div>",
       "datasetInfos": [
        {
         "name": "superstore_df",
         "schema": {
          "fields": [
           {
            "metadata": {},
            "name": "Row ID",
            "nullable": true,
            "type": "long"
           },
           {
            "metadata": {},
            "name": "Order ID",
            "nullable": true,
            "type": "string"
           },
           {
            "metadata": {},
            "name": "Order Date",
            "nullable": true,
            "type": "string"
           },
           {
            "metadata": {},
            "name": "Ship Date",
            "nullable": true,
            "type": "string"
           },
           {
            "metadata": {},
            "name": "Ship Mode",
            "nullable": true,
            "type": "string"
           },
           {
            "metadata": {},
            "name": "Customer ID",
            "nullable": true,
            "type": "string"
           },
           {
            "metadata": {},
            "name": "Customer Name",
            "nullable": true,
            "type": "string"
           },
           {
            "metadata": {},
            "name": "Segment",
            "nullable": true,
            "type": "string"
           },
           {
            "metadata": {},
            "name": "City",
            "nullable": true,
            "type": "string"
           },
           {
            "metadata": {},
            "name": "State",
            "nullable": true,
            "type": "string"
           },
           {
            "metadata": {},
            "name": "Country",
            "nullable": true,
            "type": "string"
           },
           {
            "metadata": {},
            "name": "Postal Code",
            "nullable": true,
            "type": "long"
           },
           {
            "metadata": {},
            "name": "Market",
            "nullable": true,
            "type": "string"
           },
           {
            "metadata": {},
            "name": "Region",
            "nullable": true,
            "type": "string"
           },
           {
            "metadata": {},
            "name": "Product ID",
            "nullable": true,
            "type": "string"
           },
           {
            "metadata": {},
            "name": "Category",
            "nullable": true,
            "type": "string"
           },
           {
            "metadata": {},
            "name": "Sub-Category",
            "nullable": true,
            "type": "string"
           },
           {
            "metadata": {},
            "name": "Product Name",
            "nullable": true,
            "type": "string"
           },
           {
            "metadata": {},
            "name": "Sales",
            "nullable": true,
            "type": "double"
           },
           {
            "metadata": {},
            "name": "Quantity",
            "nullable": true,
            "type": "long"
           },
           {
            "metadata": {},
            "name": "Discount",
            "nullable": true,
            "type": "double"
           },
           {
            "metadata": {},
            "name": "Profit",
            "nullable": true,
            "type": "double"
           },
           {
            "metadata": {},
            "name": "Shipping Cost",
            "nullable": true,
            "type": "double"
           },
           {
            "metadata": {},
            "name": "Order Priority",
            "nullable": true,
            "type": "string"
           }
          ],
          "type": "struct"
         },
         "tableIdentifier": "dbfs:/user/hive/warehouse/superstore_forecast",
         "typeStr": "org.apache.spark.sql.DataFrame"
        }
       ],
       "metadata": {
        "isDbfsCommandResult": false
       },
       "removedWidgets": [],
       "type": "html"
      }
     },
     "output_type": "display_data"
    }
   ],
   "source": [
    "%scala\n",
    "val superstore_df = spark.table(\"superstore_forecast\")"
   ]
  },
  {
   "cell_type": "markdown",
   "metadata": {
    "application/vnd.databricks.v1+cell": {
     "cellMetadata": {
      "byteLimit": 2048000,
      "rowLimit": 10000
     },
     "inputWidgets": {},
     "nuid": "867d4b1c-3d18-4b48-af6f-588d2adf5706",
     "showTitle": false,
     "title": ""
    }
   },
   "source": [
    "## Rename columns to be able to save as Databricks table\n",
    "\n",
    "It is a good practice to rename column names from having spaces to not having spaces. This approach ensures that the column names are more coding-friendly, reduces the potential for errors, and is generally easier to work with in a variety of data processing tasks"
   ]
  },
  {
   "cell_type": "code",
   "execution_count": 0,
   "metadata": {
    "application/vnd.databricks.v1+cell": {
     "cellMetadata": {
      "byteLimit": 2048000,
      "rowLimit": 10000
     },
     "inputWidgets": {},
     "nuid": "d43a8538-a089-451a-b27d-5a5aebc1bebe",
     "showTitle": false,
     "title": ""
    }
   },
   "outputs": [
    {
     "output_type": "display_data",
     "data": {
      "text/html": [
       "<style scoped>\n",
       "  .ansiout {\n",
       "    display: block;\n",
       "    unicode-bidi: embed;\n",
       "    white-space: pre-wrap;\n",
       "    word-wrap: break-word;\n",
       "    word-break: break-all;\n",
       "    font-family: \"Menlo\", \"Monaco\", \"Consolas\", \"Ubuntu Mono\", \"Source Code Pro\", monospace;\n",
       "    font-size: 13px;\n",
       "    color: #555;\n",
       "    margin-left: 4px;\n",
       "    line-height: 19px;\n",
       "  }\n",
       "</style>\n",
       "<div class=\"ansiout\">superstore: org.apache.spark.sql.DataFrame = [Row_ID: bigint, Order_ID: string ... 22 more fields]\n",
       "</div>"
      ]
     },
     "metadata": {
      "application/vnd.databricks.v1+output": {
       "addedWidgets": {},
       "arguments": {},
       "data": "<div class=\"ansiout\">superstore: org.apache.spark.sql.DataFrame = [Row_ID: bigint, Order_ID: string ... 22 more fields]\n</div>",
       "datasetInfos": [
        {
         "name": "superstore",
         "schema": {
          "fields": [
           {
            "metadata": {},
            "name": "Row_ID",
            "nullable": true,
            "type": "long"
           },
           {
            "metadata": {},
            "name": "Order_ID",
            "nullable": true,
            "type": "string"
           },
           {
            "metadata": {},
            "name": "Order_Date",
            "nullable": true,
            "type": "string"
           },
           {
            "metadata": {},
            "name": "Ship_Date",
            "nullable": true,
            "type": "string"
           },
           {
            "metadata": {},
            "name": "Ship_Mode",
            "nullable": true,
            "type": "string"
           },
           {
            "metadata": {},
            "name": "Customer_ID",
            "nullable": true,
            "type": "string"
           },
           {
            "metadata": {},
            "name": "Customer_Name",
            "nullable": true,
            "type": "string"
           },
           {
            "metadata": {},
            "name": "Segment",
            "nullable": true,
            "type": "string"
           },
           {
            "metadata": {},
            "name": "City",
            "nullable": true,
            "type": "string"
           },
           {
            "metadata": {},
            "name": "State",
            "nullable": true,
            "type": "string"
           },
           {
            "metadata": {},
            "name": "Country",
            "nullable": true,
            "type": "string"
           },
           {
            "metadata": {},
            "name": "Postal_Code",
            "nullable": true,
            "type": "long"
           },
           {
            "metadata": {},
            "name": "Market",
            "nullable": true,
            "type": "string"
           },
           {
            "metadata": {},
            "name": "Region",
            "nullable": true,
            "type": "string"
           },
           {
            "metadata": {},
            "name": "Product_ID",
            "nullable": true,
            "type": "string"
           },
           {
            "metadata": {},
            "name": "Category",
            "nullable": true,
            "type": "string"
           },
           {
            "metadata": {},
            "name": "Sub_Category",
            "nullable": true,
            "type": "string"
           },
           {
            "metadata": {},
            "name": "Product_Name",
            "nullable": true,
            "type": "string"
           },
           {
            "metadata": {},
            "name": "Sales",
            "nullable": true,
            "type": "double"
           },
           {
            "metadata": {},
            "name": "Quantity",
            "nullable": true,
            "type": "long"
           },
           {
            "metadata": {},
            "name": "Discount",
            "nullable": true,
            "type": "double"
           },
           {
            "metadata": {},
            "name": "Profit",
            "nullable": true,
            "type": "double"
           },
           {
            "metadata": {},
            "name": "Shipping_Cost",
            "nullable": true,
            "type": "double"
           },
           {
            "metadata": {},
            "name": "Order_Priority",
            "nullable": true,
            "type": "string"
           }
          ],
          "type": "struct"
         },
         "tableIdentifier": null,
         "typeStr": "org.apache.spark.sql.DataFrame"
        }
       ],
       "metadata": {
        "isDbfsCommandResult": false
       },
       "removedWidgets": [],
       "type": "html"
      }
     },
     "output_type": "display_data"
    }
   ],
   "source": [
    "%scala\n",
    "val superstore = superstore_df.withColumnRenamed(\"Row ID\", \"Row_ID\")\n",
    "                .withColumnRenamed(\"Order ID\", \"Order_ID\")\n",
    "                .withColumnRenamed(\"Order Date\", \"Order_Date\")\n",
    "                .withColumnRenamed(\"Ship Date\", \"Ship_Date\")\n",
    "                .withColumnRenamed(\"Ship Mode\", \"Ship_Mode\")\n",
    "                .withColumnRenamed(\"Customer ID\", \"Customer_ID\")\n",
    "                .withColumnRenamed(\"Customer Name\", \"Customer_Name\")\n",
    "                .withColumnRenamed(\"Postal Code\", \"Postal_Code\")\n",
    "                .withColumnRenamed(\"Product ID\", \"Product_ID\")\n",
    "                .withColumnRenamed(\"Sub-Category\", \"Sub_Category\")\n",
    "                .withColumnRenamed(\"Product Name\", \"Product_Name\")\n",
    "                .withColumnRenamed(\"Shipping Cost\", \"Shipping_Cost\")\n",
    "                .withColumnRenamed(\"Order Priority\", \"Order_Priority\")\n"
   ]
  },
  {
   "cell_type": "code",
   "execution_count": 0,
   "metadata": {
    "application/vnd.databricks.v1+cell": {
     "cellMetadata": {
      "byteLimit": 2048000,
      "rowLimit": 10000
     },
     "inputWidgets": {},
     "nuid": "f6326952-4070-40b0-818e-81255c8e5f4f",
     "showTitle": false,
     "title": ""
    }
   },
   "outputs": [
    {
     "output_type": "display_data",
     "data": {
      "text/html": [
       "<style scoped>\n",
       "  .ansiout {\n",
       "    display: block;\n",
       "    unicode-bidi: embed;\n",
       "    white-space: pre-wrap;\n",
       "    word-wrap: break-word;\n",
       "    word-break: break-all;\n",
       "    font-family: \"Menlo\", \"Monaco\", \"Consolas\", \"Ubuntu Mono\", \"Source Code Pro\", monospace;\n",
       "    font-size: 13px;\n",
       "    color: #555;\n",
       "    margin-left: 4px;\n",
       "    line-height: 19px;\n",
       "  }\n",
       "</style>\n",
       "<div class=\"ansiout\">root\n",
       "-- Row_ID: long (nullable = true)\n",
       "-- Order_ID: string (nullable = true)\n",
       "-- Order_Date: string (nullable = true)\n",
       "-- Ship_Date: string (nullable = true)\n",
       "-- Ship_Mode: string (nullable = true)\n",
       "-- Customer_ID: string (nullable = true)\n",
       "-- Customer_Name: string (nullable = true)\n",
       "-- Segment: string (nullable = true)\n",
       "-- City: string (nullable = true)\n",
       "-- State: string (nullable = true)\n",
       "-- Country: string (nullable = true)\n",
       "-- Postal_Code: long (nullable = true)\n",
       "-- Market: string (nullable = true)\n",
       "-- Region: string (nullable = true)\n",
       "-- Product_ID: string (nullable = true)\n",
       "-- Category: string (nullable = true)\n",
       "-- Sub_Category: string (nullable = true)\n",
       "-- Product_Name: string (nullable = true)\n",
       "-- Sales: double (nullable = true)\n",
       "-- Quantity: long (nullable = true)\n",
       "-- Discount: double (nullable = true)\n",
       "-- Profit: double (nullable = true)\n",
       "-- Shipping_Cost: double (nullable = true)\n",
       "-- Order_Priority: string (nullable = true)\n",
       "\n",
       "</div>"
      ]
     },
     "metadata": {
      "application/vnd.databricks.v1+output": {
       "addedWidgets": {},
       "arguments": {},
       "data": "<div class=\"ansiout\">root\n |-- Row_ID: long (nullable = true)\n |-- Order_ID: string (nullable = true)\n |-- Order_Date: string (nullable = true)\n |-- Ship_Date: string (nullable = true)\n |-- Ship_Mode: string (nullable = true)\n |-- Customer_ID: string (nullable = true)\n |-- Customer_Name: string (nullable = true)\n |-- Segment: string (nullable = true)\n |-- City: string (nullable = true)\n |-- State: string (nullable = true)\n |-- Country: string (nullable = true)\n |-- Postal_Code: long (nullable = true)\n |-- Market: string (nullable = true)\n |-- Region: string (nullable = true)\n |-- Product_ID: string (nullable = true)\n |-- Category: string (nullable = true)\n |-- Sub_Category: string (nullable = true)\n |-- Product_Name: string (nullable = true)\n |-- Sales: double (nullable = true)\n |-- Quantity: long (nullable = true)\n |-- Discount: double (nullable = true)\n |-- Profit: double (nullable = true)\n |-- Shipping_Cost: double (nullable = true)\n |-- Order_Priority: string (nullable = true)\n\n</div>",
       "datasetInfos": [],
       "metadata": {
        "isDbfsCommandResult": false
       },
       "removedWidgets": [],
       "type": "html"
      }
     },
     "output_type": "display_data"
    }
   ],
   "source": [
    "%scala\n",
    "// Display schema\n",
    "superstore.printSchema()"
   ]
  },
  {
   "cell_type": "code",
   "execution_count": 0,
   "metadata": {
    "application/vnd.databricks.v1+cell": {
     "cellMetadata": {
      "byteLimit": 2048000,
      "rowLimit": 10000
     },
     "inputWidgets": {},
     "nuid": "7c32ec73-65cf-44fd-b239-8183c360e0a3",
     "showTitle": false,
     "title": ""
    }
   },
   "outputs": [
    {
     "output_type": "display_data",
     "data": {
      "text/html": [
       "<style scoped>\n",
       "  .ansiout {\n",
       "    display: block;\n",
       "    unicode-bidi: embed;\n",
       "    white-space: pre-wrap;\n",
       "    word-wrap: break-word;\n",
       "    word-break: break-all;\n",
       "    font-family: \"Menlo\", \"Monaco\", \"Consolas\", \"Ubuntu Mono\", \"Source Code Pro\", monospace;\n",
       "    font-size: 13px;\n",
       "    color: #555;\n",
       "    margin-left: 4px;\n",
       "    line-height: 19px;\n",
       "  }\n",
       "</style>\n",
       "<div class=\"ansiout\">res3: Array[org.apache.spark.sql.Row] = Array([42433,AG-2011-2040,1/1/2011,6/1/2011,Standard Class,TB-11280,Toby Braunhardt,Consumer,Constantine,Constantine,Algeria,null,Africa,Africa,OFF-TEN-10000025,Office Supplies,Storage,Tenex Lockers, Blue,408.3,2,0.0,106.14,35.46,Medium], [22253,IN-2011-47883,1/1/2011,8/1/2011,Standard Class,JH-15985,Joseph Holt,Consumer,Wagga Wagga,New South Wales,Australia,null,APAC,Oceania,OFF-SU-10000618,Office Supplies,Supplies,Acme Trimmer, High Speed,120.366,3,0.1,36.036,9.72,Medium], [48883,HU-2011-1220,1/1/2011,5/1/2011,Second Class,AT-735,Annie Thurman,Consumer,Budapest,Budapest,Hungary,null,EMEA,EMEA,OFF-TEN-10001585,Office Supplies,Storage,Tenex Box, Single Width,66.12,4,0.0,29.64,8.17,High], [11731,IT-2011-3647632,1/1/2011,5/1/2011,Second Class,EM-14140,Eugene Moren,Home Office,Stockholm,Stockholm,Sweden,null,EU,North,OFF-PA-10001492,Office Supplies,Paper,Enermax Note Cards, Premium,44.865,3,0.5,-26.055,4.82,High], [22255,IN-2011-47883,1/1/2011,8/1/2011,Standard Class,JH-15985,Joseph Holt,Consumer,Wagga Wagga,New South Wales,Australia,null,APAC,Oceania,FUR-FU-10003447,Furniture,Furnishings,Eldon Light Bulb, Duo Pack,113.67,5,0.1,37.77,4.7,Medium])\n",
       "</div>"
      ]
     },
     "metadata": {
      "application/vnd.databricks.v1+output": {
       "addedWidgets": {},
       "arguments": {},
       "data": "<div class=\"ansiout\">res3: Array[org.apache.spark.sql.Row] = Array([42433,AG-2011-2040,1/1/2011,6/1/2011,Standard Class,TB-11280,Toby Braunhardt,Consumer,Constantine,Constantine,Algeria,null,Africa,Africa,OFF-TEN-10000025,Office Supplies,Storage,Tenex Lockers, Blue,408.3,2,0.0,106.14,35.46,Medium], [22253,IN-2011-47883,1/1/2011,8/1/2011,Standard Class,JH-15985,Joseph Holt,Consumer,Wagga Wagga,New South Wales,Australia,null,APAC,Oceania,OFF-SU-10000618,Office Supplies,Supplies,Acme Trimmer, High Speed,120.366,3,0.1,36.036,9.72,Medium], [48883,HU-2011-1220,1/1/2011,5/1/2011,Second Class,AT-735,Annie Thurman,Consumer,Budapest,Budapest,Hungary,null,EMEA,EMEA,OFF-TEN-10001585,Office Supplies,Storage,Tenex Box, Single Width,66.12,4,0.0,29.64,8.17,High], [11731,IT-2011-3647632,1/1/2011,5/1/2011,Second Class,EM-14140,Eugene Moren,Home Office,Stockholm,Stockholm,Sweden,null,EU,North,OFF-PA-10001492,Office Supplies,Paper,Enermax Note Cards, Premium,44.865,3,0.5,-26.055,4.82,High], [22255,IN-2011-47883,1/1/2011,8/1/2011,Standard Class,JH-15985,Joseph Holt,Consumer,Wagga Wagga,New South Wales,Australia,null,APAC,Oceania,FUR-FU-10003447,Furniture,Furnishings,Eldon Light Bulb, Duo Pack,113.67,5,0.1,37.77,4.7,Medium])\n</div>",
       "datasetInfos": [],
       "metadata": {
        "isDbfsCommandResult": false
       },
       "removedWidgets": [],
       "type": "html"
      }
     },
     "output_type": "display_data"
    }
   ],
   "source": [
    "%scala\n",
    "// Display the first five rows\n",
    "superstore.head(n=5)"
   ]
  },
  {
   "cell_type": "markdown",
   "metadata": {
    "application/vnd.databricks.v1+cell": {
     "cellMetadata": {
      "byteLimit": 2048000,
      "rowLimit": 10000
     },
     "inputWidgets": {},
     "nuid": "d668f303-020a-4db6-b6ce-c39f884b15f7",
     "showTitle": false,
     "title": ""
    }
   },
   "source": [
    "## Split in train and holdout set\n",
    "\n",
    "Use Databricks AutoML in the next step which does its own training/evaluation/test split so the above is mainly to have some data for testing (holdout) the best AutoML model after it has been created on data that the AutoML process has not seen at all yet."
   ]
  },
  {
   "cell_type": "code",
   "execution_count": 0,
   "metadata": {
    "application/vnd.databricks.v1+cell": {
     "cellMetadata": {
      "byteLimit": 2048000,
      "rowLimit": 10000
     },
     "inputWidgets": {},
     "nuid": "ec2b30eb-3e1b-4374-ba9b-4e6854fe5b9c",
     "showTitle": false,
     "title": ""
    }
   },
   "outputs": [
    {
     "output_type": "display_data",
     "data": {
      "text/html": [
       "<style scoped>\n",
       "  .ansiout {\n",
       "    display: block;\n",
       "    unicode-bidi: embed;\n",
       "    white-space: pre-wrap;\n",
       "    word-wrap: break-word;\n",
       "    word-break: break-all;\n",
       "    font-family: \"Menlo\", \"Monaco\", \"Consolas\", \"Ubuntu Mono\", \"Source Code Pro\", monospace;\n",
       "    font-size: 13px;\n",
       "    color: #555;\n",
       "    margin-left: 4px;\n",
       "    line-height: 19px;\n",
       "  }\n",
       "</style>\n",
       "<div class=\"ansiout\">training: org.apache.spark.sql.Dataset[org.apache.spark.sql.Row] = [Row_ID: bigint, Order_ID: string ... 22 more fields]\n",
       "holdout: org.apache.spark.sql.Dataset[org.apache.spark.sql.Row] = [Row_ID: bigint, Order_ID: string ... 22 more fields]\n",
       "</div>"
      ]
     },
     "metadata": {
      "application/vnd.databricks.v1+output": {
       "addedWidgets": {},
       "arguments": {},
       "data": "<div class=\"ansiout\">training: org.apache.spark.sql.Dataset[org.apache.spark.sql.Row] = [Row_ID: bigint, Order_ID: string ... 22 more fields]\nholdout: org.apache.spark.sql.Dataset[org.apache.spark.sql.Row] = [Row_ID: bigint, Order_ID: string ... 22 more fields]\n</div>",
       "datasetInfos": [
        {
         "name": "training",
         "schema": {
          "fields": [
           {
            "metadata": {},
            "name": "Row_ID",
            "nullable": true,
            "type": "long"
           },
           {
            "metadata": {},
            "name": "Order_ID",
            "nullable": true,
            "type": "string"
           },
           {
            "metadata": {},
            "name": "Order_Date",
            "nullable": true,
            "type": "string"
           },
           {
            "metadata": {},
            "name": "Ship_Date",
            "nullable": true,
            "type": "string"
           },
           {
            "metadata": {},
            "name": "Ship_Mode",
            "nullable": true,
            "type": "string"
           },
           {
            "metadata": {},
            "name": "Customer_ID",
            "nullable": true,
            "type": "string"
           },
           {
            "metadata": {},
            "name": "Customer_Name",
            "nullable": true,
            "type": "string"
           },
           {
            "metadata": {},
            "name": "Segment",
            "nullable": true,
            "type": "string"
           },
           {
            "metadata": {},
            "name": "City",
            "nullable": true,
            "type": "string"
           },
           {
            "metadata": {},
            "name": "State",
            "nullable": true,
            "type": "string"
           },
           {
            "metadata": {},
            "name": "Country",
            "nullable": true,
            "type": "string"
           },
           {
            "metadata": {},
            "name": "Postal_Code",
            "nullable": true,
            "type": "long"
           },
           {
            "metadata": {},
            "name": "Market",
            "nullable": true,
            "type": "string"
           },
           {
            "metadata": {},
            "name": "Region",
            "nullable": true,
            "type": "string"
           },
           {
            "metadata": {},
            "name": "Product_ID",
            "nullable": true,
            "type": "string"
           },
           {
            "metadata": {},
            "name": "Category",
            "nullable": true,
            "type": "string"
           },
           {
            "metadata": {},
            "name": "Sub_Category",
            "nullable": true,
            "type": "string"
           },
           {
            "metadata": {},
            "name": "Product_Name",
            "nullable": true,
            "type": "string"
           },
           {
            "metadata": {},
            "name": "Sales",
            "nullable": true,
            "type": "double"
           },
           {
            "metadata": {},
            "name": "Quantity",
            "nullable": true,
            "type": "long"
           },
           {
            "metadata": {},
            "name": "Discount",
            "nullable": true,
            "type": "double"
           },
           {
            "metadata": {},
            "name": "Profit",
            "nullable": true,
            "type": "double"
           },
           {
            "metadata": {},
            "name": "Shipping_Cost",
            "nullable": true,
            "type": "double"
           },
           {
            "metadata": {},
            "name": "Order_Priority",
            "nullable": true,
            "type": "string"
           }
          ],
          "type": "struct"
         },
         "tableIdentifier": null,
         "typeStr": "org.apache.spark.sql.Dataset[org.apache.spark.sql.Row]"
        },
        {
         "name": "holdout",
         "schema": {
          "fields": [
           {
            "metadata": {},
            "name": "Row_ID",
            "nullable": true,
            "type": "long"
           },
           {
            "metadata": {},
            "name": "Order_ID",
            "nullable": true,
            "type": "string"
           },
           {
            "metadata": {},
            "name": "Order_Date",
            "nullable": true,
            "type": "string"
           },
           {
            "metadata": {},
            "name": "Ship_Date",
            "nullable": true,
            "type": "string"
           },
           {
            "metadata": {},
            "name": "Ship_Mode",
            "nullable": true,
            "type": "string"
           },
           {
            "metadata": {},
            "name": "Customer_ID",
            "nullable": true,
            "type": "string"
           },
           {
            "metadata": {},
            "name": "Customer_Name",
            "nullable": true,
            "type": "string"
           },
           {
            "metadata": {},
            "name": "Segment",
            "nullable": true,
            "type": "string"
           },
           {
            "metadata": {},
            "name": "City",
            "nullable": true,
            "type": "string"
           },
           {
            "metadata": {},
            "name": "State",
            "nullable": true,
            "type": "string"
           },
           {
            "metadata": {},
            "name": "Country",
            "nullable": true,
            "type": "string"
           },
           {
            "metadata": {},
            "name": "Postal_Code",
            "nullable": true,
            "type": "long"
           },
           {
            "metadata": {},
            "name": "Market",
            "nullable": true,
            "type": "string"
           },
           {
            "metadata": {},
            "name": "Region",
            "nullable": true,
            "type": "string"
           },
           {
            "metadata": {},
            "name": "Product_ID",
            "nullable": true,
            "type": "string"
           },
           {
            "metadata": {},
            "name": "Category",
            "nullable": true,
            "type": "string"
           },
           {
            "metadata": {},
            "name": "Sub_Category",
            "nullable": true,
            "type": "string"
           },
           {
            "metadata": {},
            "name": "Product_Name",
            "nullable": true,
            "type": "string"
           },
           {
            "metadata": {},
            "name": "Sales",
            "nullable": true,
            "type": "double"
           },
           {
            "metadata": {},
            "name": "Quantity",
            "nullable": true,
            "type": "long"
           },
           {
            "metadata": {},
            "name": "Discount",
            "nullable": true,
            "type": "double"
           },
           {
            "metadata": {},
            "name": "Profit",
            "nullable": true,
            "type": "double"
           },
           {
            "metadata": {},
            "name": "Shipping_Cost",
            "nullable": true,
            "type": "double"
           },
           {
            "metadata": {},
            "name": "Order_Priority",
            "nullable": true,
            "type": "string"
           }
          ],
          "type": "struct"
         },
         "tableIdentifier": null,
         "typeStr": "org.apache.spark.sql.Dataset[org.apache.spark.sql.Row]"
        }
       ],
       "metadata": {
        "isDbfsCommandResult": false
       },
       "removedWidgets": [],
       "type": "html"
      }
     },
     "output_type": "display_data"
    }
   ],
   "source": [
    "%scala\n",
    "val Array(training, holdout) = superstore.randomSplit(Array(0.95, 0.05), seed = 12345)"
   ]
  },
  {
   "cell_type": "code",
   "execution_count": 0,
   "metadata": {
    "application/vnd.databricks.v1+cell": {
     "cellMetadata": {
      "byteLimit": 2048000,
      "rowLimit": 10000
     },
     "inputWidgets": {},
     "nuid": "222214cf-22a0-4b7a-9980-3cd67d384952",
     "showTitle": false,
     "title": ""
    }
   },
   "outputs": [
    {
     "output_type": "display_data",
     "data": {
      "text/html": [
       "<style scoped>\n",
       "  .ansiout {\n",
       "    display: block;\n",
       "    unicode-bidi: embed;\n",
       "    white-space: pre-wrap;\n",
       "    word-wrap: break-word;\n",
       "    word-break: break-all;\n",
       "    font-family: \"Menlo\", \"Monaco\", \"Consolas\", \"Ubuntu Mono\", \"Source Code Pro\", monospace;\n",
       "    font-size: 13px;\n",
       "    color: #555;\n",
       "    margin-left: 4px;\n",
       "    line-height: 19px;\n",
       "  }\n",
       "</style>\n",
       "<div class=\"ansiout\">48699\n",
       "2591\n",
       "</div>"
      ]
     },
     "metadata": {
      "application/vnd.databricks.v1+output": {
       "addedWidgets": {},
       "arguments": {},
       "data": "<div class=\"ansiout\">48699\n2591\n</div>",
       "datasetInfos": [],
       "metadata": {
        "isDbfsCommandResult": false
       },
       "removedWidgets": [],
       "type": "html"
      }
     },
     "output_type": "display_data"
    }
   ],
   "source": [
    "%scala\n",
    "println(training.count)\n",
    "println(holdout.count)"
   ]
  },
  {
   "cell_type": "markdown",
   "metadata": {
    "application/vnd.databricks.v1+cell": {
     "cellMetadata": {
      "byteLimit": 2048000,
      "rowLimit": 10000
     },
     "inputWidgets": {},
     "nuid": "12a307cd-5eb3-4ed9-a5e3-eb1e985dfc77",
     "showTitle": false,
     "title": ""
    }
   },
   "source": [
    "## Write tables to Databricks default DB\n",
    "\n",
    "Write the Spark dataframes as tables to the Databricks default database to be used for training and testing"
   ]
  },
  {
   "cell_type": "code",
   "execution_count": 0,
   "metadata": {
    "application/vnd.databricks.v1+cell": {
     "cellMetadata": {
      "byteLimit": 2048000,
      "rowLimit": 10000
     },
     "inputWidgets": {},
     "nuid": "38c33515-63ad-4f02-871e-8721343f789e",
     "showTitle": false,
     "title": ""
    }
   },
   "outputs": [
    {
     "output_type": "display_data",
     "data": {
      "text/html": [
       "<style scoped>\n",
       "  .ansiout {\n",
       "    display: block;\n",
       "    unicode-bidi: embed;\n",
       "    white-space: pre-wrap;\n",
       "    word-wrap: break-word;\n",
       "    word-break: break-all;\n",
       "    font-family: \"Menlo\", \"Monaco\", \"Consolas\", \"Ubuntu Mono\", \"Source Code Pro\", monospace;\n",
       "    font-size: 13px;\n",
       "    color: #555;\n",
       "    margin-left: 4px;\n",
       "    line-height: 19px;\n",
       "  }\n",
       "</style>\n",
       "<div class=\"ansiout\"></div>"
      ]
     },
     "metadata": {
      "application/vnd.databricks.v1+output": {
       "addedWidgets": {},
       "arguments": {},
       "data": "<div class=\"ansiout\"></div>",
       "datasetInfos": [],
       "metadata": {
        "isDbfsCommandResult": false
       },
       "removedWidgets": [],
       "type": "html"
      }
     },
     "output_type": "display_data"
    }
   ],
   "source": [
    "%scala\n",
    "superstore.write.mode(\"overwrite\").format(\"parquet\").saveAsTable(\"default.superstore_nchs_all\")\n",
    "training.write.mode(\"overwrite\").format(\"parquet\").saveAsTable(\"default.superstore_nchs_training\")\n",
    "holdout.write.mode(\"overwrite\").format(\"parquet\").saveAsTable(\"default.superstore_nchs_holdout\")"
   ]
  },
  {
   "cell_type": "markdown",
   "metadata": {
    "application/vnd.databricks.v1+cell": {
     "cellMetadata": {
      "byteLimit": 2048000,
      "rowLimit": 10000
     },
     "inputWidgets": {},
     "nuid": "0d39a7f6-453f-4bfb-89c2-0bf6be480601",
     "showTitle": false,
     "title": ""
    }
   },
   "source": [
    "# Create AutoML Forecast Experiment\n",
    "\n",
    "Instead of writing all the necessary ML code from scratch in a notebook to build a forecasting model, I am going to leverage Databricks’ AutoML capabilities. The AutoML Experiment is easy to configure and will run dozens of trials with different algorithms and in the end produce one winning experiment that I am going to use to build the end-to-end MLOps pipeline."
   ]
  },
  {
   "cell_type": "markdown",
   "metadata": {
    "application/vnd.databricks.v1+cell": {
     "cellMetadata": {
      "byteLimit": 2048000,
      "rowLimit": 10000
     },
     "inputWidgets": {},
     "nuid": "2efc8ad6-48d4-49cf-b748-8deff7d4877c",
     "showTitle": false,
     "title": ""
    }
   },
   "source": [
    "#### Resume where autogenerated experiment code left off\n",
    " "
   ]
  },
  {
   "cell_type": "code",
   "execution_count": 0,
   "metadata": {
    "application/vnd.databricks.v1+cell": {
     "cellMetadata": {
      "byteLimit": 2048000,
      "rowLimit": 10000
     },
     "inputWidgets": {},
     "nuid": "f9e9d6bf-f9d1-4a36-8a2e-c50d9478dbfc",
     "showTitle": false,
     "title": ""
    }
   },
   "outputs": [],
   "source": [
    "import mlflow\n",
    "import databricks.automl_runtime\n",
    "\n",
    "target_col = \"Sales\" # Target variable\n",
    "time_col = \"Order_Date\"\n",
    "unit = \"month\"\n",
    "\n",
    "horizon = 12 # Sets the forecast horizon, which is the number of time units (months) into the future you want to predict."
   ]
  },
  {
   "cell_type": "markdown",
   "metadata": {
    "application/vnd.databricks.v1+cell": {
     "cellMetadata": {
      "byteLimit": 2048000,
      "rowLimit": 10000
     },
     "inputWidgets": {},
     "nuid": "b856427b-bd4a-44ee-80f8-047272dd3d07",
     "showTitle": false,
     "title": ""
    }
   },
   "source": [
    "#### Load training data into PySpark dataframe\n",
    "\n",
    "Download an artifact from MLflow, read it into a Pandas DataFrame, and then convert it to a PySpark Pandas DataFrame for further processing"
   ]
  },
  {
   "cell_type": "code",
   "execution_count": 0,
   "metadata": {
    "application/vnd.databricks.v1+cell": {
     "cellMetadata": {
      "byteLimit": 2048000,
      "rowLimit": 10000
     },
     "inputWidgets": {},
     "nuid": "cf5d078a-b67a-474a-9d35-017db6bcde6b",
     "showTitle": false,
     "title": ""
    }
   },
   "outputs": [
    {
     "output_type": "display_data",
     "data": {
      "application/vnd.jupyter.widget-view+json": {
       "model_id": "28b87a9d0cf349eab6016c898fb8432e",
       "version_major": 2,
       "version_minor": 0
      },
      "text/plain": [
       "Downloading artifacts:   0%|          | 0/1 [00:00<?, ?it/s]"
      ]
     },
     "metadata": {},
     "output_type": "display_data"
    },
    {
     "output_type": "display_data",
     "data": {
      "text/html": [
       "<style scoped>\n",
       "  .table-result-container {\n",
       "    max-height: 300px;\n",
       "    overflow: auto;\n",
       "  }\n",
       "  table, th, td {\n",
       "    border: 1px solid black;\n",
       "    border-collapse: collapse;\n",
       "  }\n",
       "  th, td {\n",
       "    padding: 5px;\n",
       "  }\n",
       "  th {\n",
       "    text-align: left;\n",
       "  }\n",
       "</style><div class='table-result-container'><table class='table-result'><thead style='background-color: white'><tr><th>Order_Date</th><th>Sales</th></tr></thead><tbody><tr><td>2014-02-10T00:00:00Z</td><td>13.08</td></tr><tr><td>2013-05-03T00:00:00Z</td><td>20.76</td></tr><tr><td>2013-05-03T00:00:00Z</td><td>210.64</td></tr><tr><td>2014-03-10T00:00:00Z</td><td>60.66</td></tr><tr><td>2014-04-07T00:00:00Z</td><td>529.32</td></tr></tbody></table></div>"
      ]
     },
     "metadata": {
      "application/vnd.databricks.v1+output": {
       "addedWidgets": {},
       "aggData": [],
       "aggError": "",
       "aggOverflow": false,
       "aggSchema": [],
       "aggSeriesLimitReached": false,
       "aggType": "",
       "arguments": {},
       "columnCustomDisplayInfos": {},
       "data": [
        [
         "2014-02-10T00:00:00Z",
         13.08
        ],
        [
         "2013-05-03T00:00:00Z",
         20.76
        ],
        [
         "2013-05-03T00:00:00Z",
         210.64
        ],
        [
         "2014-03-10T00:00:00Z",
         60.66
        ],
        [
         "2014-04-07T00:00:00Z",
         529.32
        ]
       ],
       "datasetInfos": [],
       "dbfsResultPath": null,
       "isJsonSchema": true,
       "metadata": {},
       "overflow": false,
       "plotOptions": {
        "customPlotOptions": {},
        "displayType": "table",
        "pivotAggregation": null,
        "pivotColumns": null,
        "xColumns": null,
        "yColumns": null
       },
       "removedWidgets": [],
       "schema": [
        {
         "metadata": "{}",
         "name": "Order_Date",
         "type": "\"timestamp\""
        },
        {
         "metadata": "{}",
         "name": "Sales",
         "type": "\"double\""
        }
       ],
       "type": "table"
      }
     },
     "output_type": "display_data"
    }
   ],
   "source": [
    "import mlflow\n",
    "import os\n",
    "import uuid\n",
    "import shutil\n",
    "import pandas as pd\n",
    "import pyspark.pandas as ps\n",
    "\n",
    "# Create temp directory to download input data from MLflow\n",
    "input_temp_dir = os.path.join(os.environ[\"SPARK_LOCAL_DIRS\"], \"tmp\", str(uuid.uuid4())[:8])\n",
    "os.makedirs(input_temp_dir)\n",
    "\n",
    "# Download the artifact and read it into a pandas DataFrame\n",
    "input_data_path = mlflow.artifacts.download_artifacts(run_id=\"3e9ad12026f44e3f93724301baf0c4bf\", artifact_path=\"data\", dst_path=input_temp_dir)\n",
    "\n",
    "# Reads the downloaded artifact (assumed to be in Parquet format) into a Pandas DataFrame and then converts it to a PySpark Pandas DataFrame\n",
    "input_file_path = os.path.join(input_data_path, \"training_data\")\n",
    "input_file_path = \"file://\" + input_file_path\n",
    "df_loaded = ps.from_pandas(pd.read_parquet(input_file_path))\n",
    "\n",
    "# Preview data\n",
    "display(df_loaded.head(5))"
   ]
  },
  {
   "cell_type": "markdown",
   "metadata": {
    "application/vnd.databricks.v1+cell": {
     "cellMetadata": {
      "byteLimit": 2048000,
      "rowLimit": 10000
     },
     "inputWidgets": {},
     "nuid": "2076136d-8e8a-43ca-b125-215d137ff8f5",
     "showTitle": false,
     "title": ""
    }
   },
   "source": [
    "#### Aggregate data by time_col\n",
    "Group the data by time_col, and take average if there are multiple target_col values in the same group."
   ]
  },
  {
   "cell_type": "code",
   "execution_count": 0,
   "metadata": {
    "application/vnd.databricks.v1+cell": {
     "cellMetadata": {
      "byteLimit": 2048000,
      "rowLimit": 10000
     },
     "inputWidgets": {},
     "nuid": "050e388f-2702-411b-ab39-1de9ad4d2cd1",
     "showTitle": false,
     "title": ""
    }
   },
   "outputs": [
    {
     "output_type": "display_data",
     "data": {
      "text/html": [
       "<style scoped>\n",
       "  .table-result-container {\n",
       "    max-height: 300px;\n",
       "    overflow: auto;\n",
       "  }\n",
       "  table, th, td {\n",
       "    border: 1px solid black;\n",
       "    border-collapse: collapse;\n",
       "  }\n",
       "  th, td {\n",
       "    padding: 5px;\n",
       "  }\n",
       "  th {\n",
       "    text-align: left;\n",
       "  }\n",
       "</style><div class='table-result-container'><table class='table-result'><thead style='background-color: white'><tr><th>Order_Date</th><th>y</th></tr></thead><tbody><tr><td>2012-07-11T00:00:00Z</td><td>214.84697428571428</td></tr><tr><td>2011-10-10T00:00:00Z</td><td>225.13822666666664</td></tr><tr><td>2014-08-04T00:00:00Z</td><td>206.84459090909095</td></tr><tr><td>2011-12-04T00:00:00Z</td><td>236.07794117647057</td></tr><tr><td>2013-07-08T00:00:00Z</td><td>190.36520733333333</td></tr></tbody></table></div>"
      ]
     },
     "metadata": {
      "application/vnd.databricks.v1+output": {
       "addedWidgets": {},
       "aggData": [],
       "aggError": "",
       "aggOverflow": false,
       "aggSchema": [],
       "aggSeriesLimitReached": false,
       "aggType": "",
       "arguments": {},
       "columnCustomDisplayInfos": {},
       "data": [
        [
         "2012-07-11T00:00:00Z",
         214.84697428571428
        ],
        [
         "2011-10-10T00:00:00Z",
         225.13822666666664
        ],
        [
         "2014-08-04T00:00:00Z",
         206.84459090909095
        ],
        [
         "2011-12-04T00:00:00Z",
         236.07794117647057
        ],
        [
         "2013-07-08T00:00:00Z",
         190.36520733333333
        ]
       ],
       "datasetInfos": [],
       "dbfsResultPath": null,
       "isJsonSchema": true,
       "metadata": {},
       "overflow": false,
       "plotOptions": {
        "customPlotOptions": {},
        "displayType": "table",
        "pivotAggregation": null,
        "pivotColumns": null,
        "xColumns": null,
        "yColumns": null
       },
       "removedWidgets": [],
       "schema": [
        {
         "metadata": "{}",
         "name": "Order_Date",
         "type": "\"timestamp\""
        },
        {
         "metadata": "{}",
         "name": "y",
         "type": "\"double\""
        }
       ],
       "type": "table"
      }
     },
     "output_type": "display_data"
    }
   ],
   "source": [
    "# Calculates the average sales for each unique \"Order_Date\"\n",
    "\n",
    "group_cols = [time_col]\n",
    "df_aggregated = df_loaded \\\n",
    "  .groupby(group_cols) \\\n",
    "  .agg(y=(target_col, \"avg\")) \\\n",
    "  .reset_index()\n",
    "\n",
    "display(df_aggregated.head(5))"
   ]
  },
  {
   "cell_type": "markdown",
   "metadata": {
    "application/vnd.databricks.v1+cell": {
     "cellMetadata": {
      "byteLimit": 2048000,
      "rowLimit": 10000
     },
     "inputWidgets": {},
     "nuid": "eebd8df4-3e1b-4298-8c2f-a4eeff4a366e",
     "showTitle": false,
     "title": ""
    }
   },
   "source": [
    "#### Train Prophet model\n"
   ]
  },
  {
   "cell_type": "code",
   "execution_count": 0,
   "metadata": {
    "application/vnd.databricks.v1+cell": {
     "cellMetadata": {
      "byteLimit": 2048000,
      "rowLimit": 10000
     },
     "inputWidgets": {},
     "nuid": "8b6a44c5-7e0e-450e-8810-8798e36c945f",
     "showTitle": false,
     "title": ""
    }
   },
   "outputs": [],
   "source": [
    "import logging\n",
    "\n",
    "# disable informational messages from prophet\n",
    "logging.getLogger(\"py4j\").setLevel(logging.WARNING)"
   ]
  },
  {
   "cell_type": "code",
   "execution_count": 0,
   "metadata": {
    "application/vnd.databricks.v1+cell": {
     "cellMetadata": {
      "byteLimit": 2048000,
      "rowLimit": 10000
     },
     "inputWidgets": {},
     "nuid": "56fcaeae-c040-4357-bfc7-6c8e14d77937",
     "showTitle": false,
     "title": ""
    }
   },
   "outputs": [],
   "source": [
    "result_columns = [\"model_json\", \"mse\", \"rmse\", \"mae\", \"mape\", \"mdape\", \"smape\", \"coverage\"]\n",
    "\n",
    "def prophet_training(history_pd):\n",
    "  from hyperopt import hp\n",
    "  from databricks.automl_runtime.forecast.prophet.forecast import ProphetHyperoptEstimator\n",
    "\n",
    "  seasonality_mode = [\"additive\", \"multiplicative\"]\n",
    "  search_space =  {\n",
    "    \"changepoint_prior_scale\": hp.loguniform(\"changepoint_prior_scale\", -6.9, -0.69),\n",
    "    \"seasonality_prior_scale\": hp.loguniform(\"seasonality_prior_scale\", -6.9, 2.3),\n",
    "    \"holidays_prior_scale\": hp.loguniform(\"holidays_prior_scale\", -6.9, 2.3),\n",
    "    \"seasonality_mode\": hp.choice(\"seasonality_mode\", seasonality_mode)\n",
    "  }\n",
    "  country_holidays = None\n",
    "  run_parallel = True\n",
    " \n",
    "  hyperopt_estim = ProphetHyperoptEstimator(horizon=horizon, frequency_unit=unit, metric=\"smape\",interval_width=0.95,\n",
    "                   country_holidays=country_holidays, search_space=search_space, num_folds=20, max_eval=10, trial_timeout=7028,\n",
    "                   random_state=367623005, is_parallel=run_parallel)\n",
    "\n",
    "  spark.conf.set(\"spark.databricks.mlflow.trackHyperopt.enabled\", \"false\")\n",
    "\n",
    "  results_pd = hyperopt_estim.fit(history_pd)\n",
    "\n",
    "  spark.conf.set(\"spark.databricks.mlflow.trackHyperopt.enabled\", \"true\")\n",
    " \n",
    "  return results_pd[result_columns]"
   ]
  },
  {
   "cell_type": "code",
   "execution_count": 0,
   "metadata": {
    "application/vnd.databricks.v1+cell": {
     "cellMetadata": {
      "byteLimit": 2048000,
      "rowLimit": 10000
     },
     "inputWidgets": {},
     "nuid": "7872b0dc-20ef-4c72-a6f7-a67224246432",
     "showTitle": false,
     "title": ""
    }
   },
   "outputs": [
    {
     "output_type": "stream",
     "name": "stderr",
     "output_type": "stream",
     "text": [
      "/databricks/python/lib/python3.11/site-packages/_distutils_hack/__init__.py:33: UserWarning: Setuptools is replacing distutils.\n  warnings.warn(\"Setuptools is replacing distutils.\")\nBecause the requested parallelism was None or a non-positive value, parallelism will be set to (4), which is Spark's default parallelism (4), or 1, whichever is greater. We recommend setting parallelism explicitly to a positive value because the total of Spark task slots is subject to cluster sizing.\nHyperopt + MLflow integration is feature-flagged off.  To enable automatic tracking in MLflow, set via: `spark.conf.set('spark.databricks.mlflow.trackHyperopt.enabled', 'true')` where `spark` is your SparkSession.\nTo view logs from trials, please check the Spark executor logs. To view executor logs, expand 'Spark Jobs' above until you see the (i) icon next to the stage from the trial job. Click it and find the list of tasks. Click the 'stderr' link for a task to view trial logs.\n"
     ]
    },
    {
     "output_type": "stream",
     "name": "stdout",
     "output_type": "stream",
     "text": [
      "\r  0%|          | 0/10 [00:00<?, ?trial/s, best loss=?]\r 20%|██        | 2/10 [00:07<00:28,  3.51s/trial, best loss: 0.2708364167149065]\r 30%|███       | 3/10 [00:08<00:17,  2.46s/trial, best loss: 0.2699329486125396]\r 40%|████      | 4/10 [00:09<00:11,  1.92s/trial, best loss: 0.2699329486125396]\r 50%|█████     | 5/10 [00:12<00:11,  2.30s/trial, best loss: 0.2699329486125396]\r 60%|██████    | 6/10 [00:13<00:07,  1.87s/trial, best loss: 0.2699329486125396]\r 70%|███████   | 7/10 [00:14<00:04,  1.59s/trial, best loss: 0.2699329486125396]\r 80%|████████  | 8/10 [00:15<00:02,  1.41s/trial, best loss: 0.2699329486125396]\r 90%|█████████ | 9/10 [00:17<00:01,  1.59s/trial, best loss: 0.2699329486125396]\r100%|██████████| 10/10 [00:18<00:00,  1.41s/trial, best loss: 0.2699329486125396]\r100%|██████████| 10/10 [00:18<00:00,  1.80s/trial, best loss: 0.2699329486125396]"
     ]
    },
    {
     "output_type": "stream",
     "name": "stderr",
     "output_type": "stream",
     "text": [
      "Total Trials: 10: 10 succeeded, 0 failed, 0 cancelled.\n08:52:15 - cmdstanpy - INFO - Chain [1] start processing\n"
     ]
    },
    {
     "output_type": "stream",
     "name": "stdout",
     "output_type": "stream",
     "text": [
      "\n"
     ]
    },
    {
     "output_type": "stream",
     "name": "stderr",
     "output_type": "stream",
     "text": [
      "08:52:15 - cmdstanpy - INFO - Chain [1] done processing\n/databricks/python/lib/python3.11/site-packages/prophet/serialize.py:172: FutureWarning: The behavior of Timestamp.utcfromtimestamp is deprecated, in a future version will return a timezone-aware Timestamp with UTC timezone. To keep the old behavior, use Timestamp.utcfromtimestamp(ts).tz_localize(None). To get the future behavior, use Timestamp.fromtimestamp(ts, 'UTC')\n  setattr(model, attribute, pd.Timestamp.utcfromtimestamp(model_dict[attribute]).tz_localize(None))\n/databricks/python/lib/python3.11/site-packages/prophet/serialize.py:172: FutureWarning: The behavior of Timestamp.utcfromtimestamp is deprecated, in a future version will return a timezone-aware Timestamp with UTC timezone. To keep the old behavior, use Timestamp.utcfromtimestamp(ts).tz_localize(None). To get the future behavior, use Timestamp.fromtimestamp(ts, 'UTC')\n  setattr(model, attribute, pd.Timestamp.utcfromtimestamp(model_dict[attribute]).tz_localize(None))\n"
     ]
    },
    {
     "output_type": "display_data",
     "data": {
      "application/vnd.jupyter.widget-view+json": {
       "model_id": "6745e639eab846449623278afa286a88",
       "version_major": 2,
       "version_minor": 0
      },
      "text/plain": [
       "Uploading artifacts:   0%|          | 0/9 [00:00<?, ?it/s]"
      ]
     },
     "metadata": {},
     "output_type": "display_data"
    }
   ],
   "source": [
    "import mlflow\n",
    "from databricks.automl_runtime.forecast.prophet.model import mlflow_prophet_log_model, ProphetModel\n",
    "\n",
    "with mlflow.start_run(experiment_id=\"3770154393612199\", run_name=\"Prophet\") as mlflow_run:\n",
    "  mlflow.set_tag(\"estimator_name\", \"Prophet\")\n",
    "  mlflow.log_param(\"interval_width\", 0.95)\n",
    "  df_aggregated = df_aggregated.rename(columns={time_col: \"ds\"})\n",
    "\n",
    "  forecast_results = prophet_training(df_aggregated.to_pandas())\n",
    "    \n",
    "  # Log the metrics to mlflow\n",
    "  metric_name_map = {\"mse\": \"mean_squared_error\", \"rmse\": \"root_mean_squared_error\", \"mae\": \"mean_absolute_error\",\n",
    "                     \"mape\": \"mean_absolute_percentage_error\", \"mdape\": \"mdape\", \"smape\": \"smape\", \"coverage\": \"coverage\"}\n",
    "  avg_metrics = forecast_results[metric_name_map.keys()].rename(columns=metric_name_map).mean().to_frame(name=\"mean_metrics\").reset_index()\n",
    "  avg_metrics[\"index\"] = \"val_\" + avg_metrics[\"index\"].astype(str)\n",
    "  avg_metrics.set_index(\"index\", inplace=True)\n",
    "  mlflow.log_metrics(avg_metrics.to_dict()[\"mean_metrics\"])\n",
    "\n",
    "  # Create mlflow prophet model\n",
    "  model_json = forecast_results[\"model_json\"].to_list()[0]\n",
    "  prophet_model = ProphetModel(model_json, horizon, unit, time_col)\n",
    "  mlflow_prophet_log_model(prophet_model)"
   ]
  },
  {
   "cell_type": "code",
   "execution_count": 0,
   "metadata": {
    "application/vnd.databricks.v1+cell": {
     "cellMetadata": {
      "byteLimit": 2048000,
      "rowLimit": 10000
     },
     "inputWidgets": {},
     "nuid": "cdaa1943-6918-495b-aa00-059f8da9564e",
     "showTitle": false,
     "title": ""
    }
   },
   "outputs": [
    {
     "output_type": "execute_result",
     "data": {
      "text/html": [
       "<div>\n",
       "<style scoped>\n",
       "    .dataframe tbody tr th:only-of-type {\n",
       "        vertical-align: middle;\n",
       "    }\n",
       "\n",
       "    .dataframe tbody tr th {\n",
       "        vertical-align: top;\n",
       "    }\n",
       "\n",
       "    .dataframe thead th {\n",
       "        text-align: right;\n",
       "    }\n",
       "</style>\n",
       "<table border=\"1\" class=\"dataframe\">\n",
       "  <thead>\n",
       "    <tr style=\"text-align: right;\">\n",
       "      <th></th>\n",
       "      <th>mse</th>\n",
       "      <th>rmse</th>\n",
       "      <th>mae</th>\n",
       "      <th>mape</th>\n",
       "      <th>mdape</th>\n",
       "      <th>smape</th>\n",
       "      <th>coverage</th>\n",
       "    </tr>\n",
       "  </thead>\n",
       "  <tbody>\n",
       "    <tr>\n",
       "      <th>count</th>\n",
       "      <td>1.000000</td>\n",
       "      <td>1.00000</td>\n",
       "      <td>1.000000</td>\n",
       "      <td>1.000000</td>\n",
       "      <td>1.000000</td>\n",
       "      <td>1.000000</td>\n",
       "      <td>1.000000</td>\n",
       "    </tr>\n",
       "    <tr>\n",
       "      <th>mean</th>\n",
       "      <td>9996.896734</td>\n",
       "      <td>97.55202</td>\n",
       "      <td>66.611219</td>\n",
       "      <td>0.331512</td>\n",
       "      <td>0.200709</td>\n",
       "      <td>0.269933</td>\n",
       "      <td>0.967755</td>\n",
       "    </tr>\n",
       "    <tr>\n",
       "      <th>std</th>\n",
       "      <td>NaN</td>\n",
       "      <td>NaN</td>\n",
       "      <td>NaN</td>\n",
       "      <td>NaN</td>\n",
       "      <td>NaN</td>\n",
       "      <td>NaN</td>\n",
       "      <td>NaN</td>\n",
       "    </tr>\n",
       "    <tr>\n",
       "      <th>min</th>\n",
       "      <td>9996.896734</td>\n",
       "      <td>97.55202</td>\n",
       "      <td>66.611219</td>\n",
       "      <td>0.331512</td>\n",
       "      <td>0.200709</td>\n",
       "      <td>0.269933</td>\n",
       "      <td>0.967755</td>\n",
       "    </tr>\n",
       "    <tr>\n",
       "      <th>25%</th>\n",
       "      <td>9996.896734</td>\n",
       "      <td>97.55202</td>\n",
       "      <td>66.611219</td>\n",
       "      <td>0.331512</td>\n",
       "      <td>0.200709</td>\n",
       "      <td>0.269933</td>\n",
       "      <td>0.967755</td>\n",
       "    </tr>\n",
       "    <tr>\n",
       "      <th>50%</th>\n",
       "      <td>9996.896734</td>\n",
       "      <td>97.55202</td>\n",
       "      <td>66.611219</td>\n",
       "      <td>0.331512</td>\n",
       "      <td>0.200709</td>\n",
       "      <td>0.269933</td>\n",
       "      <td>0.967755</td>\n",
       "    </tr>\n",
       "    <tr>\n",
       "      <th>75%</th>\n",
       "      <td>9996.896734</td>\n",
       "      <td>97.55202</td>\n",
       "      <td>66.611219</td>\n",
       "      <td>0.331512</td>\n",
       "      <td>0.200709</td>\n",
       "      <td>0.269933</td>\n",
       "      <td>0.967755</td>\n",
       "    </tr>\n",
       "    <tr>\n",
       "      <th>max</th>\n",
       "      <td>9996.896734</td>\n",
       "      <td>97.55202</td>\n",
       "      <td>66.611219</td>\n",
       "      <td>0.331512</td>\n",
       "      <td>0.200709</td>\n",
       "      <td>0.269933</td>\n",
       "      <td>0.967755</td>\n",
       "    </tr>\n",
       "  </tbody>\n",
       "</table>\n",
       "</div>"
      ],
      "text/plain": [
       "               mse      rmse        mae      mape     mdape     smape  coverage\n",
       "count     1.000000   1.00000   1.000000  1.000000  1.000000  1.000000  1.000000\n",
       "mean   9996.896734  97.55202  66.611219  0.331512  0.200709  0.269933  0.967755\n",
       "std            NaN       NaN        NaN       NaN       NaN       NaN       NaN\n",
       "min    9996.896734  97.55202  66.611219  0.331512  0.200709  0.269933  0.967755\n",
       "25%    9996.896734  97.55202  66.611219  0.331512  0.200709  0.269933  0.967755\n",
       "50%    9996.896734  97.55202  66.611219  0.331512  0.200709  0.269933  0.967755\n",
       "75%    9996.896734  97.55202  66.611219  0.331512  0.200709  0.269933  0.967755\n",
       "max    9996.896734  97.55202  66.611219  0.331512  0.200709  0.269933  0.967755"
      ]
     },
     "execution_count": 7,
     "metadata": {},
     "output_type": "execute_result"
    }
   ],
   "source": [
    "# Show stats of forecast_results. By default we do not display it because the output takes up a lot of storage for large datasets.\n",
    "forecast_results.describe()"
   ]
  },
  {
   "cell_type": "markdown",
   "metadata": {
    "application/vnd.databricks.v1+cell": {
     "cellMetadata": {
      "byteLimit": 2048000,
      "rowLimit": 10000
     },
     "inputWidgets": {},
     "nuid": "30d9ed2d-e580-4e53-b2d1-27e410373831",
     "showTitle": false,
     "title": ""
    }
   },
   "source": [
    "#### Analyze the predicted results"
   ]
  },
  {
   "cell_type": "code",
   "execution_count": 0,
   "metadata": {
    "application/vnd.databricks.v1+cell": {
     "cellMetadata": {
      "byteLimit": 2048000,
      "rowLimit": 10000
     },
     "inputWidgets": {},
     "nuid": "5f5ed87e-0a8f-44dd-ab84-abc9b0e1b862",
     "showTitle": false,
     "title": ""
    }
   },
   "outputs": [
    {
     "output_type": "display_data",
     "data": {
      "application/vnd.jupyter.widget-view+json": {
       "model_id": "7eaa44edbc28465584018943dbf46266",
       "version_major": 2,
       "version_minor": 0
      },
      "text/plain": [
       "Downloading artifacts:   0%|          | 0/9 [00:00<?, ?it/s]"
      ]
     },
     "metadata": {},
     "output_type": "display_data"
    }
   ],
   "source": [
    "# Load the model\n",
    "run_id = mlflow_run.info.run_id\n",
    "loaded_model = mlflow.pyfunc.load_model(f\"runs:/{run_id}/model\")"
   ]
  },
  {
   "cell_type": "code",
   "execution_count": 0,
   "metadata": {
    "application/vnd.databricks.v1+cell": {
     "cellMetadata": {
      "byteLimit": 2048000,
      "rowLimit": 10000
     },
     "inputWidgets": {},
     "nuid": "ae48e948-7eeb-4abc-a55b-1fcec7a65d76",
     "showTitle": false,
     "title": ""
    }
   },
   "outputs": [
    {
     "output_type": "stream",
     "name": "stderr",
     "output_type": "stream",
     "text": [
      "/databricks/python/lib/python3.11/site-packages/prophet/serialize.py:172: FutureWarning: The behavior of Timestamp.utcfromtimestamp is deprecated, in a future version will return a timezone-aware Timestamp with UTC timezone. To keep the old behavior, use Timestamp.utcfromtimestamp(ts).tz_localize(None). To get the future behavior, use Timestamp.fromtimestamp(ts, 'UTC')\n  setattr(model, attribute, pd.Timestamp.utcfromtimestamp(model_dict[attribute]).tz_localize(None))\n"
     ]
    },
    {
     "output_type": "display_data",
     "data": {
      "text/html": [
       "<style scoped>\n",
       "  .table-result-container {\n",
       "    max-height: 300px;\n",
       "    overflow: auto;\n",
       "  }\n",
       "  table, th, td {\n",
       "    border: 1px solid black;\n",
       "    border-collapse: collapse;\n",
       "  }\n",
       "  th, td {\n",
       "    padding: 5px;\n",
       "  }\n",
       "  th {\n",
       "    text-align: left;\n",
       "  }\n",
       "</style><div class='table-result-container'><table class='table-result'><thead style='background-color: white'><tr><th>ds</th></tr></thead><tbody><tr><td>2011-01-01T00:00:00Z</td></tr><tr><td>2011-01-02T00:00:00Z</td></tr><tr><td>2011-01-03T00:00:00Z</td></tr><tr><td>2011-01-04T00:00:00Z</td></tr><tr><td>2011-01-06T00:00:00Z</td></tr></tbody></table></div>"
      ]
     },
     "metadata": {
      "application/vnd.databricks.v1+output": {
       "addedWidgets": {},
       "aggData": [],
       "aggError": "",
       "aggOverflow": false,
       "aggSchema": [],
       "aggSeriesLimitReached": false,
       "aggType": "",
       "arguments": {},
       "columnCustomDisplayInfos": {},
       "data": [
        [
         "2011-01-01T00:00:00Z"
        ],
        [
         "2011-01-02T00:00:00Z"
        ],
        [
         "2011-01-03T00:00:00Z"
        ],
        [
         "2011-01-04T00:00:00Z"
        ],
        [
         "2011-01-06T00:00:00Z"
        ]
       ],
       "datasetInfos": [],
       "dbfsResultPath": null,
       "isJsonSchema": true,
       "metadata": {},
       "overflow": false,
       "plotOptions": {
        "customPlotOptions": {},
        "displayType": "table",
        "pivotAggregation": null,
        "pivotColumns": null,
        "xColumns": null,
        "yColumns": null
       },
       "removedWidgets": [],
       "schema": [
        {
         "metadata": "{}",
         "name": "ds",
         "type": "\"timestamp\""
        }
       ],
       "type": "table"
      }
     },
     "output_type": "display_data"
    }
   ],
   "source": [
    "# Set up the future dates for which the model will make predictions\n",
    "\n",
    "future_df = loaded_model._model_impl.python_model.make_future_dataframe()\n",
    "display(future_df.head(5))"
   ]
  },
  {
   "cell_type": "code",
   "execution_count": 0,
   "metadata": {
    "application/vnd.databricks.v1+cell": {
     "cellMetadata": {
      "byteLimit": 2048000,
      "rowLimit": 10000
     },
     "inputWidgets": {},
     "nuid": "19c2537d-5eb5-47a3-b124-806285246a1a",
     "showTitle": false,
     "title": ""
    }
   },
   "outputs": [
    {
     "output_type": "stream",
     "name": "stderr",
     "output_type": "stream",
     "text": [
      "/databricks/python/lib/python3.11/site-packages/prophet/serialize.py:172: FutureWarning: The behavior of Timestamp.utcfromtimestamp is deprecated, in a future version will return a timezone-aware Timestamp with UTC timezone. To keep the old behavior, use Timestamp.utcfromtimestamp(ts).tz_localize(None). To get the future behavior, use Timestamp.fromtimestamp(ts, 'UTC')\n  setattr(model, attribute, pd.Timestamp.utcfromtimestamp(model_dict[attribute]).tz_localize(None))\n"
     ]
    }
   ],
   "source": [
    "# Predict future with the default horizon\n",
    "forecast_pd = loaded_model._model_impl.python_model.model().predict(future_df)"
   ]
  },
  {
   "cell_type": "code",
   "execution_count": 0,
   "metadata": {
    "application/vnd.databricks.v1+cell": {
     "cellMetadata": {
      "byteLimit": 2048000,
      "rowLimit": 10000
     },
     "inputWidgets": {},
     "nuid": "a95fb9e1-2c1d-4966-9542-9cc920ecd009",
     "showTitle": false,
     "title": ""
    }
   },
   "outputs": [],
   "source": [
    "# Plotly plots is turned off by default because it takes up a lot of storage.\n",
    "# Set this flag to True and re-run the notebook to see the interactive plots with plotly\n",
    "use_plotly = False"
   ]
  },
  {
   "cell_type": "code",
   "execution_count": 0,
   "metadata": {
    "application/vnd.databricks.v1+cell": {
     "cellMetadata": {
      "byteLimit": 2048000,
      "rowLimit": 10000
     },
     "inputWidgets": {},
     "nuid": "ae4eb2a3-aaf8-4ded-94a4-e41fd88e058a",
     "showTitle": false,
     "title": ""
    }
   },
   "outputs": [
    {
     "output_type": "stream",
     "name": "stderr",
     "output_type": "stream",
     "text": [
      "/databricks/python/lib/python3.11/site-packages/prophet/serialize.py:172: FutureWarning: The behavior of Timestamp.utcfromtimestamp is deprecated, in a future version will return a timezone-aware Timestamp with UTC timezone. To keep the old behavior, use Timestamp.utcfromtimestamp(ts).tz_localize(None). To get the future behavior, use Timestamp.fromtimestamp(ts, 'UTC')\n  setattr(model, attribute, pd.Timestamp.utcfromtimestamp(model_dict[attribute]).tz_localize(None))\n"
     ]
    }
   ],
   "source": [
    "# Get prophet model\n",
    "model = loaded_model._model_impl.python_model.model()\n",
    "predict_pd = forecast_pd"
   ]
  },
  {
   "cell_type": "markdown",
   "metadata": {
    "application/vnd.databricks.v1+cell": {
     "cellMetadata": {
      "byteLimit": 2048000,
      "rowLimit": 10000
     },
     "inputWidgets": {},
     "nuid": "3787f259-3d28-41a0-ae82-7326660ad117",
     "showTitle": false,
     "title": ""
    }
   },
   "source": [
    "#### Plot the forecast with change points and trend\n",
    "Plot the forecast using the plot method with your forecast dataframe. You can use prophet.plot.add_changepoints_to_plot to overlay significant changepoints. An interactive figure can be created with plotly."
   ]
  },
  {
   "cell_type": "code",
   "execution_count": 0,
   "metadata": {
    "application/vnd.databricks.v1+cell": {
     "cellMetadata": {
      "byteLimit": 2048000,
      "rowLimit": 10000
     },
     "inputWidgets": {},
     "nuid": "0a866cec-5088-4c0c-bb13-c303578d8ef5",
     "showTitle": false,
     "title": ""
    }
   },
   "outputs": [
    {
     "output_type": "display_data",
     "data": {
      "image/png": "[encoded data removed]",
      "text/plain": [
       "<Figure size 1200x600 with 1 Axes>"
      ]
     },
     "metadata": {},
     "output_type": "display_data"
    }
   ],
   "source": [
    "from prophet.plot import add_changepoints_to_plot, plot_plotly\n",
    "import matplotlib.pyplot as plt\n",
    "\n",
    "if use_plotly:\n",
    "    fig = plot_plotly(model, predict_pd, changepoints=True, trend=True, figsize=(1200, 600))\n",
    "    fig.show()\n",
    "else:\n",
    "    fig, ax = plt.subplots(figsize=(12, 6))\n",
    "    model.plot(predict_pd, ax=ax)\n",
    "    add_changepoints_to_plot(ax, model, predict_pd)\n",
    "    plt.show()"
   ]
  },
  {
   "cell_type": "markdown",
   "metadata": {
    "application/vnd.databricks.v1+cell": {
     "cellMetadata": {
      "byteLimit": 2048000,
      "rowLimit": 10000
     },
     "inputWidgets": {},
     "nuid": "0f855f9f-027c-4619-8926-88491bae9ea3",
     "showTitle": false,
     "title": ""
    }
   },
   "source": [
    "#### Plot the forecast components\n",
    "Use the Prophet.plot_components method to see the components. By default you'll see the trend, yearly seasonality, and weekly seasonality of the time series. You can also include holidays. An interactive figure can be created with plotly."
   ]
  },
  {
   "cell_type": "code",
   "execution_count": 0,
   "metadata": {
    "application/vnd.databricks.v1+cell": {
     "cellMetadata": {
      "byteLimit": 2048000,
      "rowLimit": 10000
     },
     "inputWidgets": {},
     "nuid": "3d1324ce-3cff-4c76-ba92-ae7bf778fdb7",
     "showTitle": false,
     "title": ""
    }
   },
   "outputs": [
    {
     "output_type": "display_data",
     "data": {
      "image/png": "[encoded data removed]",
      "text/plain": [
       "<Figure size 900x900 with 3 Axes>"
      ]
     },
     "metadata": {},
     "output_type": "display_data"
    }
   ],
   "source": [
    "from prophet.plot import plot_components_plotly\n",
    "\n",
    "if use_plotly:\n",
    "    fig = plot_components_plotly(model, predict_pd, figsize=(900, 400))\n",
    "    fig.show()\n",
    "else:\n",
    "    fig = model.plot_components(predict_pd)"
   ]
  },
  {
   "cell_type": "markdown",
   "metadata": {
    "application/vnd.databricks.v1+cell": {
     "cellMetadata": {
      "byteLimit": 2048000,
      "rowLimit": 10000
     },
     "inputWidgets": {},
     "nuid": "4bb0af20-003f-484e-a6d4-4d3a03e73e29",
     "showTitle": false,
     "title": ""
    }
   },
   "source": [
    "#### Show the predicted results"
   ]
  },
  {
   "cell_type": "code",
   "execution_count": 0,
   "metadata": {
    "application/vnd.databricks.v1+cell": {
     "cellMetadata": {
      "byteLimit": 2048000,
      "rowLimit": 10000
     },
     "inputWidgets": {},
     "nuid": "70ca04bc-14b0-4d20-9d67-75b946d16599",
     "showTitle": false,
     "title": ""
    }
   },
   "outputs": [
    {
     "output_type": "display_data",
     "data": {
      "text/html": [
       "<style scoped>\n",
       "  .table-result-container {\n",
       "    max-height: 300px;\n",
       "    overflow: auto;\n",
       "  }\n",
       "  table, th, td {\n",
       "    border: 1px solid black;\n",
       "    border-collapse: collapse;\n",
       "  }\n",
       "  th, td {\n",
       "    padding: 5px;\n",
       "  }\n",
       "  th {\n",
       "    text-align: left;\n",
       "  }\n",
       "</style><div class='table-result-container'><table class='table-result'><thead style='background-color: white'><tr><th>ds</th><th>yhat</th></tr></thead><tbody><tr><td>2015-01-31T00:00:00Z</td><td>258.60838292798115</td></tr><tr><td>2015-02-28T00:00:00Z</td><td>258.5807861992352</td></tr><tr><td>2015-03-28T00:00:00Z</td><td>260.3615985990972</td></tr><tr><td>2015-04-28T00:00:00Z</td><td>260.9181166511346</td></tr><tr><td>2015-05-28T00:00:00Z</td><td>262.87413798680655</td></tr><tr><td>2015-06-28T00:00:00Z</td><td>264.07484022267204</td></tr><tr><td>2015-07-28T00:00:00Z</td><td>266.1449551457462</td></tr><tr><td>2015-08-28T00:00:00Z</td><td>267.60651333243413</td></tr><tr><td>2015-09-28T00:00:00Z</td><td>269.89029678886203</td></tr><tr><td>2015-10-28T00:00:00Z</td><td>270.61377083432563</td></tr><tr><td>2015-11-28T00:00:00Z</td><td>272.0935326911207</td></tr><tr><td>2015-12-28T00:00:00Z</td><td>273.5219781491414</td></tr></tbody></table></div>"
      ]
     },
     "metadata": {
      "application/vnd.databricks.v1+output": {
       "addedWidgets": {},
       "aggData": [],
       "aggError": "",
       "aggOverflow": false,
       "aggSchema": [],
       "aggSeriesLimitReached": false,
       "aggType": "",
       "arguments": {},
       "columnCustomDisplayInfos": {},
       "data": [
        [
         "2015-01-31T00:00:00Z",
         258.60838292798115
        ],
        [
         "2015-02-28T00:00:00Z",
         258.5807861992352
        ],
        [
         "2015-03-28T00:00:00Z",
         260.3615985990972
        ],
        [
         "2015-04-28T00:00:00Z",
         260.9181166511346
        ],
        [
         "2015-05-28T00:00:00Z",
         262.87413798680655
        ],
        [
         "2015-06-28T00:00:00Z",
         264.07484022267204
        ],
        [
         "2015-07-28T00:00:00Z",
         266.1449551457462
        ],
        [
         "2015-08-28T00:00:00Z",
         267.60651333243413
        ],
        [
         "2015-09-28T00:00:00Z",
         269.89029678886203
        ],
        [
         "2015-10-28T00:00:00Z",
         270.61377083432563
        ],
        [
         "2015-11-28T00:00:00Z",
         272.0935326911207
        ],
        [
         "2015-12-28T00:00:00Z",
         273.5219781491414
        ]
       ],
       "datasetInfos": [],
       "dbfsResultPath": null,
       "isJsonSchema": true,
       "metadata": {},
       "overflow": false,
       "plotOptions": {
        "customPlotOptions": {},
        "displayType": "table",
        "pivotAggregation": null,
        "pivotColumns": null,
        "xColumns": null,
        "yColumns": null
       },
       "removedWidgets": [],
       "schema": [
        {
         "metadata": "{}",
         "name": "ds",
         "type": "\"timestamp\""
        },
        {
         "metadata": "{}",
         "name": "yhat",
         "type": "\"double\""
        }
       ],
       "type": "table"
      }
     },
     "output_type": "display_data"
    }
   ],
   "source": [
    "predict_cols = [\"ds\", \"yhat\"]\n",
    "forecast_pd = forecast_pd.reset_index()\n",
    "display(forecast_pd[predict_cols].tail(horizon))"
   ]
  },
  {
   "cell_type": "markdown",
   "metadata": {
    "application/vnd.databricks.v1+cell": {
     "cellMetadata": {
      "byteLimit": 2048000,
      "rowLimit": 10000
     },
     "inputWidgets": {},
     "nuid": "46892ff8-86f7-4b56-84d5-07da0d634609",
     "showTitle": false,
     "title": ""
    }
   },
   "source": [
    "# Build End-To-End MLOps Workflow From Data Ingest To Model Deployment\n",
    "Reuse the auto-generated model code from the best AutoML trial and enhance it with data ingest and model deployment code so the resulting notebook here can be run from start to finish and that way each time pull fresh data from the catalog, save it to the Databricks default database, train an Prophet model with the best hyperparameters from the top AutoML run, do batch inference on the holdout dataset, and in case the batch predictions are better than the 90 percent success threshold, automatically deploy the model into the Databricks Model Registry so it can be used either for batch predictions or real-time model serving via a REST API interface.\n"
   ]
  },
  {
   "cell_type": "markdown",
   "metadata": {
    "application/vnd.databricks.v1+cell": {
     "cellMetadata": {
      "byteLimit": 2048000,
      "rowLimit": 10000
     },
     "inputWidgets": {},
     "nuid": "78a24b0f-fc11-4fd6-be1c-75d1072f4aab",
     "showTitle": false,
     "title": ""
    }
   },
   "source": [
    "#### Register model after training"
   ]
  },
  {
   "cell_type": "code",
   "execution_count": 0,
   "metadata": {
    "application/vnd.databricks.v1+cell": {
     "cellMetadata": {
      "byteLimit": 2048000,
      "rowLimit": 10000
     },
     "inputWidgets": {},
     "nuid": "8f66c8a8-8d8f-4122-9651-5e4df90314a2",
     "showTitle": false,
     "title": ""
    }
   },
   "outputs": [
    {
     "output_type": "stream",
     "name": "stderr",
     "output_type": "stream",
     "text": [
      "Registered model 'ProphetModel' already exists. Creating a new version of this model...\n2024/08/21 06:35:40 INFO mlflow.store.model_registry.abstract_store: Waiting up to 300 seconds for model version to finish creation. Model name: ProphetModel, version 4\n"
     ]
    },
    {
     "output_type": "stream",
     "name": "stdout",
     "output_type": "stream",
     "text": [
      "Model registered under URI: runs:/68f5705bf5f841a3a33093ef43952ff1/model\nRegistered model version: 4\n"
     ]
    },
    {
     "output_type": "stream",
     "name": "stderr",
     "output_type": "stream",
     "text": [
      "Created version '4' of model 'ProphetModel'.\n"
     ]
    }
   ],
   "source": [
    "import mlflow\n",
    "\n",
    "model_uri = f\"runs:/{mlflow_run.info.run_id}/model\"\n",
    "\n",
    "# Register the model with MLflow\n",
    "registered_model_version = mlflow.register_model(model_uri, \"ProphetModel\")\n",
    "\n",
    "# Print the registered model URI\n",
    "print(f\"Model registered under URI: {model_uri}\")\n",
    "print(f\"Registered model version: {registered_model_version.version}\")\n"
   ]
  },
  {
   "cell_type": "markdown",
   "metadata": {
    "application/vnd.databricks.v1+cell": {
     "cellMetadata": {},
     "inputWidgets": {},
     "nuid": "7f282a97-1f24-442b-9887-1d0884f6c49a",
     "showTitle": false,
     "title": ""
    }
   },
   "source": [
    "#### Setting the model stage as Staging\n",
    "\n",
    "If you're still testing or validating the model, you might want to set it to \"Staging\"\n",
    "\n",
    "When the model is ready for deployment and use in a live environment, transition it to \"Production\""
   ]
  },
  {
   "cell_type": "code",
   "execution_count": 0,
   "metadata": {
    "application/vnd.databricks.v1+cell": {
     "cellMetadata": {
      "byteLimit": 2048000,
      "rowLimit": 10000
     },
     "inputWidgets": {},
     "nuid": "17274841-e6b8-480d-ae21-acabd010c0a2",
     "showTitle": false,
     "title": ""
    }
   },
   "outputs": [
    {
     "output_type": "stream",
     "name": "stderr",
     "output_type": "stream",
     "text": [
      "/root/.ipykernel/22163/command-2495303028643627-3256157027:7: FutureWarning: ``mlflow.tracking.client.MlflowClient.transition_model_version_stage`` is deprecated since 2.9.0. Model registry stages will be removed in a future major release. To learn more about the deprecation of model registry stages, see our migration guide here: https://mlflow.org/docs/2.13.1/model-registry.html#migrating-from-stages\n  client.transition_model_version_stage(\n"
     ]
    },
    {
     "output_type": "stream",
     "name": "stdout",
     "output_type": "stream",
     "text": [
      "Model version 4 set to 'Staging' stage.\n"
     ]
    }
   ],
   "source": [
    "from mlflow.tracking import MlflowClient\n",
    "\n",
    "# Initialize the MLflow Client\n",
    "client = MlflowClient()\n",
    "\n",
    "# Transition the registered model version to the \"Staging\" stage\n",
    "client.transition_model_version_stage(\n",
    "    name=\"ProphetModel\",  # The name of the registered model\n",
    "    version=registered_model_version.version,  # The version number of the model\n",
    "    stage=\"Staging\"  # The stage to transition to (\"Staging\", \"Production\", or \"Archived\")\n",
    ")\n",
    "\n",
    "print(f\"Model version {registered_model_version.version} set to 'Staging' stage.\")\n"
   ]
  },
  {
   "cell_type": "markdown",
   "metadata": {
    "application/vnd.databricks.v1+cell": {
     "cellMetadata": {
      "byteLimit": 2048000,
      "rowLimit": 10000
     },
     "inputWidgets": {},
     "nuid": "6eca9e42-2088-4094-a87b-f951d674f278",
     "showTitle": false,
     "title": ""
    }
   },
   "source": [
    "#### Define input and output for batch inference\n",
    "\n",
    "The table path assigned to input_table_name will be used for batch inference and the predictions will be saved to output_table_path."
   ]
  },
  {
   "cell_type": "code",
   "execution_count": 0,
   "metadata": {
    "application/vnd.databricks.v1+cell": {
     "cellMetadata": {
      "byteLimit": 2048000,
      "rowLimit": 10000
     },
     "inputWidgets": {},
     "nuid": "fa0b0ede-f634-4f31-bb8e-396fc4d81e5f",
     "showTitle": false,
     "title": ""
    }
   },
   "outputs": [],
   "source": [
    "# redefining key variables here because %pip and %conda restarts the Python interpreter\n",
    "input_table_name = \"default.superstore_nchs_holdout\" # Test the best AutoML model with holdout set\n",
    "output_table_path = \"/FileStore/batch-inference/superstore_nchs\""
   ]
  },
  {
   "cell_type": "code",
   "execution_count": 0,
   "metadata": {
    "application/vnd.databricks.v1+cell": {
     "cellMetadata": {
      "byteLimit": 2048000,
      "rowLimit": 10000
     },
     "inputWidgets": {},
     "nuid": "fb17652e-eed3-4073-b25e-e90a23560fd7",
     "showTitle": false,
     "title": ""
    }
   },
   "outputs": [],
   "source": [
    "# load table as a Spark DataFrame\n",
    "table = spark.table(input_table_name)"
   ]
  },
  {
   "cell_type": "markdown",
   "metadata": {
    "application/vnd.databricks.v1+cell": {
     "cellMetadata": {
      "byteLimit": 2048000,
      "rowLimit": 10000
     },
     "inputWidgets": {},
     "nuid": "b47d6344-1b86-4ac7-a8e2-c770920b289c",
     "showTitle": false,
     "title": ""
    }
   },
   "source": [
    "#### Load model and run inference\n",
    "\n",
    "If the new model achieves the success criteria, register it into the MLFlow\n",
    "\n",
    "A MAPE under 10% shows high accuracy, 10-20% shows good forecast results, 20-50% shows reasonable forecast results, and greater than 50% shows incorrect results "
   ]
  },
  {
   "cell_type": "code",
   "execution_count": 0,
   "metadata": {
    "application/vnd.databricks.v1+cell": {
     "cellMetadata": {
      "byteLimit": 2048000,
      "rowLimit": 10000
     },
     "inputWidgets": {},
     "nuid": "4277eae1-eaf1-4795-969a-6939a1a20ec4",
     "showTitle": false,
     "title": ""
    }
   },
   "outputs": [
    {
     "output_type": "stream",
     "name": "stderr",
     "output_type": "stream",
     "text": [
      "Because the requested parallelism was None or a non-positive value, parallelism will be set to (4), which is Spark's default parallelism (4), or 1, whichever is greater. We recommend setting parallelism explicitly to a positive value because the total of Spark task slots is subject to cluster sizing.\nHyperopt + MLflow integration is feature-flagged off.  To enable automatic tracking in MLflow, set via: `spark.conf.set('spark.databricks.mlflow.trackHyperopt.enabled', 'true')` where `spark` is your SparkSession.\nTo view logs from trials, please check the Spark executor logs. To view executor logs, expand 'Spark Jobs' above until you see the (i) icon next to the stage from the trial job. Click it and find the list of tasks. Click the 'stderr' link for a task to view trial logs.\n"
     ]
    },
    {
     "output_type": "stream",
     "name": "stdout",
     "output_type": "stream",
     "text": [
      "\r  0%|          | 0/10 [00:00<?, ?trial/s, best loss=?]\r 10%|█         | 1/10 [00:05<00:45,  5.01s/trial, best loss: 0.2708364167149065]\r 20%|██        | 2/10 [00:06<00:21,  2.65s/trial, best loss: 0.2708364167149065]\r 30%|███       | 3/10 [00:07<00:13,  1.90s/trial, best loss: 0.2699329486125396]\r 40%|████      | 4/10 [00:08<00:09,  1.55s/trial, best loss: 0.2699329486125396]\r 50%|█████     | 5/10 [00:09<00:06,  1.35s/trial, best loss: 0.2699329486125396]\r 60%|██████    | 6/10 [00:10<00:04,  1.23s/trial, best loss: 0.2699329486125396]\r 80%|████████  | 8/10 [00:12<00:02,  1.12s/trial, best loss: 0.2699329486125396]\r 90%|█████████ | 9/10 [00:13<00:01,  1.09s/trial, best loss: 0.2699329486125396]\r100%|██████████| 10/10 [00:14<00:00,  1.06s/trial, best loss: 0.2699329486125396]\r100%|██████████| 10/10 [00:14<00:00,  1.40s/trial, best loss: 0.2699329486125396]\n"
     ]
    },
    {
     "output_type": "stream",
     "name": "stderr",
     "output_type": "stream",
     "text": [
      "Total Trials: 10: 10 succeeded, 0 failed, 0 cancelled.\n06:36:05 - cmdstanpy - INFO - Chain [1] start processing\n06:36:05 - cmdstanpy - INFO - Chain [1] done processing\n"
     ]
    },
    {
     "output_type": "stream",
     "name": "stdout",
     "output_type": "stream",
     "text": [
      "Model did not meet the success threshold. MAPE: 0.3315119149434439. Registration skipped.\n"
     ]
    }
   ],
   "source": [
    "import mlflow\n",
    "from databricks.automl_runtime.forecast.prophet.model import mlflow_prophet_log_model, ProphetModel\n",
    "\n",
    "# Define a success threshold for MAPE (e.g., MAPE < 20%)\n",
    "success_threshold = 0.20\n",
    "\n",
    "with mlflow.start_run(experiment_id=\"3770154393612199\", run_name=\"Prophet\") as mlflow_run:\n",
    "    mlflow.set_tag(\"estimator_name\", \"Prophet\")\n",
    "    mlflow.log_param(\"interval_width\", 0.95)\n",
    "    df_aggregated = df_aggregated.rename(columns={time_col: \"ds\"})\n",
    "\n",
    "    # Train the model and get forecast results\n",
    "    forecast_results = prophet_training(df_aggregated.to_pandas())\n",
    "\n",
    "    # Log the metrics to mlflow\n",
    "    metric_name_map = {\n",
    "        \"mse\": \"mean_squared_error\",\n",
    "        \"rmse\": \"root_mean_squared_error\",\n",
    "        \"mae\": \"mean_absolute_error\",\n",
    "        \"mape\": \"mean_absolute_percentage_error\",\n",
    "        \"mdape\": \"mdape\",\n",
    "        \"smape\": \"smape\",\n",
    "        \"coverage\": \"coverage\"\n",
    "    }\n",
    "    avg_metrics = forecast_results[metric_name_map.keys()] \\\n",
    "        .rename(columns=metric_name_map) \\\n",
    "        .mean() \\\n",
    "        .to_frame(name=\"mean_metrics\") \\\n",
    "        .reset_index()\n",
    "    \n",
    "    avg_metrics[\"index\"] = \"val_\" + avg_metrics[\"index\"].astype(str)\n",
    "    avg_metrics.set_index(\"index\", inplace=True)\n",
    "    \n",
    "    # Log the calculated metrics to MLflow\n",
    "    mlflow.log_metrics(avg_metrics.to_dict()[\"mean_metrics\"])\n",
    "\n",
    "    # Retrieve the MAPE value to check against the success threshold\n",
    "    mape_value = avg_metrics.loc[\"val_mean_absolute_percentage_error\", \"mean_metrics\"]\n",
    "\n",
    "    # Check if the model meets the success criteria\n",
    "    if mape_value < success_threshold:\n",
    "        print(f\"Model meets the success criteria with MAPE: {mape_value}. Registering the model...\")\n",
    "        \n",
    "        # Create and log the MLflow Prophet model\n",
    "        model_json = forecast_results[\"model_json\"].to_list()[0]\n",
    "        prophet_model = ProphetModel(model_json, horizon, unit, time_col)\n",
    "        mlflow_prophet_log_model(prophet_model)\n",
    "        \n",
    "        # Register the model\n",
    "        registered_model_version = mlflow.register_model(f\"runs:/{mlflow_run.info.run_id}/model\", \"ProphetModel\")\n",
    "    else:\n",
    "        print(f\"Model did not meet the success threshold. MAPE: {mape_value}. Registration skipped.\")\n",
    "\n"
   ]
  },
  {
   "cell_type": "markdown",
   "metadata": {
    "application/vnd.databricks.v1+cell": {
     "cellMetadata": {
      "byteLimit": 2048000,
      "rowLimit": 10000
     },
     "inputWidgets": {},
     "nuid": "3c082dde-a987-4f5d-aad1-a84914b9db73",
     "showTitle": false,
     "title": ""
    }
   },
   "source": [
    "#### Update the production model in MLflow Model Registry\n",
    "\n",
    "If the model meets the success criteria, archived the existing model and update the new model to production stage"
   ]
  },
  {
   "cell_type": "code",
   "execution_count": 0,
   "metadata": {
    "application/vnd.databricks.v1+cell": {
     "cellMetadata": {
      "byteLimit": 2048000,
      "rowLimit": 10000
     },
     "inputWidgets": {},
     "nuid": "c17b812b-dd8f-4061-b704-3eeb7a25923a",
     "showTitle": false,
     "title": ""
    }
   },
   "outputs": [],
   "source": [
    "if mape_value < success_threshold:\n",
    "    try:\n",
    "        client.transition_model_version_stage(\n",
    "              name=\"ProphetModel\",\n",
    "              version=int(registered_model_version.version)-1,\n",
    "              stage=\"Archived\"\n",
    "            )\n",
    "    except Exception as e:\n",
    "        print(f\"Error archiving previous model versions: {e}\")\n",
    "    \n",
    "    try:\n",
    "        client.transition_model_version_stage(\n",
    "              name=\"ProphetModel\",\n",
    "              version=registered_model_version.version,\n",
    "              stage=\"Production\",\n",
    "              archive_existing_versions=True\n",
    "            )\n",
    "    except Exception as e:\n",
    "        print(f\"Error transitioning model to Production: {e}\")\n"
   ]
  },
  {
   "cell_type": "markdown",
   "metadata": {
    "application/vnd.databricks.v1+cell": {
     "cellMetadata": {},
     "inputWidgets": {},
     "nuid": "1d17e2ff-ff7f-40ca-8734-426951ee67be",
     "showTitle": false,
     "title": ""
    }
   },
   "source": [
    "# Schedule MLOps Pipeline And Make Real-Time Predictions\n",
    "\n",
    "To make this an automated, repeatable process that will build and deploy a new model on fresh data in case the catalog updates the source dataset and the new model surpasses the set threshold of 90 percent correct predictions on the new holdout dataset, all that needs to be done is to schedule a Databricks Workflow which can be achieved on the notebook page view by clicking on ‘Schedule’"
   ]
  }
 ],
 "metadata": {
  "application/vnd.databricks.v1+notebook": {
   "dashboards": [],
   "environmentMetadata": null,
   "language": "python",
   "notebookMetadata": {
    "pythonIndentUnit": 4
   },
   "notebookName": "Sales_MLOps_AutoML",
   "widgets": {}
  }
 },
 "nbformat": 4,
 "nbformat_minor": 0
}
